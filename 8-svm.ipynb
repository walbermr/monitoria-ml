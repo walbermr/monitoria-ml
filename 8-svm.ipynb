{
 "cells": [
  {
   "cell_type": "markdown",
   "metadata": {},
   "source": [
    "# k-Nearest Neighbors\n",
    "\n",
    "***"
   ]
  },
  {
   "cell_type": "markdown",
   "metadata": {},
   "source": [
    "## Índice\n",
    "\n",
    "1. [Importando bibliotecas](#importando-bibliotecas)\n",
    "2. [Treinamento do modelo](#treinamento-do-modelo)\n",
    "3. [Impacto do tamanho da vizinhança](#impacto-do-tamanho-da-vizinhança)\n",
    "4. [Personalizando a medida de distância](#personalizando-a-medida-de-distância)"
   ]
  },
  {
   "cell_type": "markdown",
   "metadata": {},
   "source": [
    "## Importando bibliotecas"
   ]
  },
  {
   "cell_type": "code",
   "execution_count": 10,
   "metadata": {},
   "outputs": [],
   "source": [
    "# Bibliotecas de manipualção e visualização de dados\n",
    "import numpy as np\n",
    "import matplotlib.pyplot as plt\n",
    "from mlxtend.plotting import plot_decision_regions\n",
    "\n",
    "# Classes do modelo\n",
    "from sklearn.svm import SVC, LinearSVC\n",
    "\n",
    "# Funções de avaliação dos modelos\n",
    "from sklearn.metrics import classification_report\n",
    "from sklearn.model_selection import train_test_split\n",
    "\n",
    "from sklearn.preprocessing import MinMaxScaler\n",
    "\n",
    "from sklearn.pipeline import Pipeline\n",
    "\n",
    "# Função para carregar nosso dataset\n",
    "from sklearn.datasets import load_wine\n",
    "\n",
    "def show_decision_region(x, y, clf, f0, f1):\n",
    "    plot_decision_regions(x, y, clf=clf)\n",
    "    plt.xlabel(f0)\n",
    "    plt.ylabel(f1)\n",
    "    if clf.__class__.__name__ == \"KNeighborsClassifier\":\n",
    "        plt.title(clf.__class__.__name__ + \" k = \" + str(clf.n_neighbors))\n",
    "    else:\n",
    "        plt.title(clf.__class__.__name__)\n",
    "    plt.show()\n",
    "\n",
    "# extracted from https://jakevdp.github.io/PythonDataScienceHandbook/05.07-support-vector-machines.html\n",
    "def plot_svc_decision_function(model, ax=None, plot_support=True):\n",
    "    \"\"\"Plot the decision function for a 2D SVC\"\"\"\n",
    "    if ax is None:\n",
    "        ax = plt.gca()\n",
    "    xlim = ax.get_xlim()\n",
    "    ylim = ax.get_ylim()\n",
    "    \n",
    "    # create grid to evaluate model\n",
    "    x = np.linspace(xlim[0], xlim[1], 30)\n",
    "    y = np.linspace(ylim[0], ylim[1], 30)\n",
    "    Y, X = np.meshgrid(y, x)\n",
    "    xy = np.vstack([X.ravel(), Y.ravel()]).T\n",
    "    P = model.decision_function(xy).reshape(X.shape)\n",
    "    \n",
    "    # plot decision boundary and margins\n",
    "    ax.contour(\n",
    "        X, \n",
    "        Y, \n",
    "        P, \n",
    "        colors='k',\n",
    "        levels=[-1, 0, 1], \n",
    "        alpha=0.5,\n",
    "        linestyles=['--', '-', '--']\n",
    "    )\n",
    "    \n",
    "    # plot support vectors\n",
    "    if plot_support:\n",
    "        ax.scatter(\n",
    "            model.support_vectors_[:, 0],\n",
    "            model.support_vectors_[:, 1],\n",
    "            s=300, \n",
    "            linewidth=1, \n",
    "            facecolors='none'\n",
    "        )\n",
    "\n",
    "    ax.set_xlim(xlim)\n",
    "    ax.set_ylim(ylim)"
   ]
  },
  {
   "cell_type": "markdown",
   "metadata": {},
   "source": [
    "## Treinamento do modelo"
   ]
  },
  {
   "cell_type": "code",
   "execution_count": 3,
   "metadata": {},
   "outputs": [],
   "source": [
    "# carregando o dataset\n",
    "X, y = load_wine(return_X_y=True, as_frame=True)\n",
    "\n",
    "# vamos escolher apenas classes do dataset\n",
    "class_a = 0\n",
    "class_b = 1\n",
    "class_0_instances = (y == class_a)\n",
    "class_1_instances = (y == class_b)\n",
    "\n",
    "filtered_y = y[class_0_instances | class_1_instances]\n",
    "filtered_X = X[class_0_instances | class_1_instances]\n",
    "\n",
    "# cores e simbolos para as classses\n",
    "colors = {0: \"steelblue\", 1: \"darkorange\", 2: \"mediumseagreen\"}\n",
    "markers = {0: \"s\", 1: \"^\", 2:\"o\"}\n",
    "\n",
    "# vamos observar as duas features\n",
    "feature_0 = \"alcohol\"\n",
    "feature_1 = \"color_intensity\"\n",
    "\n",
    "# dividindo o dataset em treino e teste\n",
    "X_train, X_test, y_train, y_test = train_test_split(filtered_X[[feature_0, feature_1]], filtered_y, test_size=0.3, random_state=199)\n"
   ]
  },
  {
   "cell_type": "markdown",
   "metadata": {},
   "source": [
    "Vamos utilizar uma das implementações do SVM no _sklearn_, o SVC. Aqui conseguimos controlar a penalização por instância errada (_C_) e os parâmetros de otimização do algoritmo, bem como seu _kernel_."
   ]
  },
  {
   "cell_type": "code",
   "execution_count": 7,
   "metadata": {},
   "outputs": [
    {
     "data": {
      "image/png": "[encoded data removed]",
      "text/plain": [
       "<Figure size 432x288 with 1 Axes>"
      ]
     },
     "metadata": {
      "needs_background": "light"
     },
     "output_type": "display_data"
    }
   ],
   "source": [
    "model = SVC(C=1e-10, kernel=\"linear\")\n",
    "model.fit(X_train, y_train)\n",
    "\n",
    "plt.scatter(\n",
    "    X_train[feature_0][class_0_instances],\n",
    "    X_train[feature_1][class_0_instances], \n",
    "    c=colors[class_a], \n",
    "    marker=markers[class_a]\n",
    ")\n",
    "plt.scatter(\n",
    "    X_train[feature_0][class_1_instances], \n",
    "    X_train[feature_1][class_1_instances], \n",
    "    c=colors[class_b], \n",
    "    marker=markers[class_b]\n",
    ")\n",
    "\n",
    "plot_svc_decision_function(model)"
   ]
  },
  {
   "cell_type": "code",
   "execution_count": 42,
   "metadata": {},
   "outputs": [
    {
     "name": "stdout",
     "output_type": "stream",
     "text": [
      "              precision    recall  f1-score   support\n",
      "\n",
      "           0       0.82      0.64      0.72        14\n",
      "           1       0.82      0.92      0.87        25\n",
      "\n",
      "    accuracy                           0.82        39\n",
      "   macro avg       0.82      0.78      0.79        39\n",
      "weighted avg       0.82      0.82      0.81        39\n",
      "\n"
     ]
    },
    {
     "data": {
      "image/png": "[encoded data removed]",
      "text/plain": [
       "<Figure size 432x288 with 1 Axes>"
      ]
     },
     "metadata": {
      "needs_background": "light"
     },
     "output_type": "display_data"
    },
    {
     "name": "stdout",
     "output_type": "stream",
     "text": [
      "[[-3.05092044 -2.4736741 ]]\n",
      "[2.58621461]\n"
     ]
    }
   ],
   "source": [
    "# vamos criar um classificador kNN com k=11\n",
    "model = Pipeline(\n",
    "    [(\"scaler\", MinMaxScaler()),\n",
    "    (\"classifier\", SVC(C=1, max_iter=10000, kernel='linear')),]\n",
    ")\n",
    "model.fit(X_train, y_train)\n",
    "\n",
    "# e ver a sua performance no dataset de teste\n",
    "print(classification_report(y_test, model.predict(X_test)))\n",
    "\n",
    "show_decision_region(\n",
    "    np.array(\n",
    "        [\n",
    "            X_test[feature_0].values, \n",
    "            X_test[feature_1].values,\n",
    "        ]\n",
    "    ).T, \n",
    "    y_test.values, \n",
    "    model, \n",
    "    feature_0, \n",
    "    feature_1\n",
    ")\n",
    "\n",
    "print(model[\"classifier\"].coef_)\n",
    "print(model[\"classifier\"].intercept_)"
   ]
  },
  {
   "cell_type": "code",
   "execution_count": 41,
   "metadata": {},
   "outputs": [
    {
     "name": "stdout",
     "output_type": "stream",
     "text": [
      "              precision    recall  f1-score   support\n",
      "\n",
      "           0       0.85      0.79      0.81        14\n",
      "           1       0.88      0.92      0.90        25\n",
      "\n",
      "    accuracy                           0.87        39\n",
      "   macro avg       0.87      0.85      0.86        39\n",
      "weighted avg       0.87      0.87      0.87        39\n",
      "\n"
     ]
    },
    {
     "data": {
      "image/png": "[encoded data removed]",
      "text/plain": [
       "<Figure size 432x288 with 1 Axes>"
      ]
     },
     "metadata": {
      "needs_background": "light"
     },
     "output_type": "display_data"
    },
    {
     "name": "stdout",
     "output_type": "stream",
     "text": [
      "[[-2.80173692 -2.44686165]]\n",
      "[2.42275264]\n"
     ]
    }
   ],
   "source": [
    "# vamos criar um classificador kNN com k=11\n",
    "model = Pipeline(\n",
    "    [(\"scaler\", MinMaxScaler()),\n",
    "    (\"model\", LinearSVC(C=1, max_iter=10000, loss='hinge')),]\n",
    ")\n",
    "model.fit(X_train, y_train)\n",
    "\n",
    "# e ver a sua performance no dataset de teste\n",
    "print(classification_report(y_test, model.predict(X_test)))\n",
    "\n",
    "show_decision_region(\n",
    "    np.array(\n",
    "        [\n",
    "            X_test[feature_0].values, \n",
    "            X_test[feature_1].values,\n",
    "        ]\n",
    "    ).T, \n",
    "    y_test.values, \n",
    "    model, \n",
    "    feature_0, \n",
    "    feature_1\n",
    ")\n",
    "\n",
    "print(model[\"model\"].coef_)\n",
    "print(model[\"model\"].intercept_)"
   ]
  },
  {
   "cell_type": "code",
   "execution_count": 79,
   "metadata": {},
   "outputs": [
    {
     "data": {
      "image/png": "[encoded data removed]",
      "text/plain": [
       "<Figure size 432x288 with 1 Axes>"
      ]
     },
     "metadata": {
      "needs_background": "light"
     },
     "output_type": "display_data"
    }
   ],
   "source": [
    "import matplotlib.pyplot as plt\n",
    "\n",
    "fig = plt.figure()\n",
    "ax = fig.add_subplot(projection='3d')\n",
    "\n",
    "# z = (X[class_0_instances][[feature_0, feature_1]].values * model[\"model\"].coef_).sum(axis=1) + model[\"model\"].intercept_\n",
    "# ax.scatter(X[class_0_instances][feature_0].values, y[class_0_instances].values, z)\n",
    "\n",
    "c0 = (y_test == class_a)\n",
    "c1 = (y_test == class_b)\n",
    "\n",
    "z = (X_test.values * model[\"model\"].coef_).sum(axis=1) + model[\"model\"].intercept_\n",
    "ax.scatter(X_test[c0][feature_0].values, y_test[c0].values, z[c0])\n",
    "ax.scatter(X_test[c1][feature_0].values, y_test[c1].values, z[c1])\n",
    "\n",
    "plt.show()\n",
    "\n",
    "\n",
    "# class_a = 0\n",
    "# class_b = 1\n",
    "# class_0_instances = (y == class_a)\n",
    "# class_1_instances = (y == class_b)\n",
    "\n",
    "# filtered_y = y_test[class_0_instances | class_1_instances]\n",
    "# filtered_X = X_test[class_0_instances | class_1_instances]\n",
    "\n",
    "# # vamos definir cores e simbolos para nossas classses\n",
    "# colors = {0: \"steelblue\", 1: \"darkorange\", 2: \"mediumseagreen\"}\n",
    "# markers = {0: \"s\", 1: \"^\", 2:\"o\"}\n",
    "\n",
    "# # como duas classes estão distribuidas por duas features?\n",
    "# feature_0 = \"alcohol\"\n",
    "# feature_1 = \"color_intensity\"\n",
    "\n",
    "# # vamos observar cada uma das classes usando duas features\n",
    "# plt.scatter(\n",
    "#     X[feature_0][class_0_instances],\n",
    "#     X[feature_1][class_0_instances], \n",
    "#     c=colors[class_a], \n",
    "#     marker=markers[class_a]\n",
    "# )\n",
    "# plt.scatter(\n",
    "#     X[feature_0][class_1_instances], \n",
    "#     X[feature_1][class_1_instances], \n",
    "#     c=colors[class_b], \n",
    "#     marker=markers[class_b]\n",
    "# )"
   ]
  },
  {
   "cell_type": "markdown",
   "metadata": {},
   "source": [
    "## Impacto do tamanho da vizinhança\n",
    "\n",
    "Vamos voltar um pouco e rever como o dataset de treino se comporta."
   ]
  },
  {
   "cell_type": "code",
   "execution_count": null,
   "metadata": {},
   "outputs": [],
   "source": [
    "plt.scatter(\n",
    "    X_train[feature_0][class_0_instances],\n",
    "    X_train[feature_1][class_0_instances], \n",
    "    c=colors[class_a], \n",
    "    marker=markers[class_a]\n",
    ")\n",
    "plt.scatter(\n",
    "    X_train[feature_0][class_1_instances], \n",
    "    X_train[feature_1][class_1_instances], \n",
    "    c=colors[class_b], \n",
    "    marker=markers[class_b]\n",
    ")"
   ]
  },
  {
   "cell_type": "markdown",
   "metadata": {},
   "source": [
    "Vemos que a classe triangulo laranja tem alguns exemplares bem próximos dos quadrados azuis. O que acontece se mudarmos o tamanho da vizinhança no nosso classificador?\n",
    "\n",
    "Agora vamos observar a região de decisão, reduzindo o tamanho da vizinhança.\n",
    "\n",
    "A medida em que a quantidade de vizinhos reduz, a região de decisão fica menos suave. Isso porque quanto menos vizinhos para decidir se uma instancia é de uma classe ou não, maior a sensibilidade do algoritmo.\n",
    "\n",
    "Decidir o valor ideal para esse hiperparâmetro é depende de problema para problema. Para alguns datasets, um valor menor de vizinhos pode ser beneficial para diferenciar padrões com baixa ocorrência ou que estão próximos de outras classe com maior frequência. Entretanto, quanto menor a quantidade de vizinhos, maior é a chance do algoritmo ser afetado por ruído."
   ]
  },
  {
   "cell_type": "code",
   "execution_count": null,
   "metadata": {},
   "outputs": [],
   "source": [
    "for k in [11, 9, 7, 5, 3, 1]:\n",
    "    model = KNeighborsClassifier(n_neighbors=k)\n",
    "    model.fit(X_train, y_train)\n",
    "\n",
    "    # e ver a sua performance no dataset de teste\n",
    "    show_decision_region(\n",
    "        np.stack(\n",
    "            [\n",
    "                X_test[feature_0].values, \n",
    "                X_test[feature_1].values,\n",
    "            ],\n",
    "            axis=1\n",
    "        ), \n",
    "        y_test.values, \n",
    "        model, \n",
    "        feature_0, \n",
    "        feature_1\n",
    "    )"
   ]
  },
  {
   "cell_type": "markdown",
   "metadata": {},
   "source": [
    "## Personalizando a medida de distância"
   ]
  },
  {
   "cell_type": "markdown",
   "metadata": {},
   "source": [
    "Também podemos mudar a métrica utilizada para calcular a distância entre as amostras.\n",
    "\n",
    "O hiperparâmetro _metric_ pode assumir dois tipos diferentes, uma _string_ ou uma função. Caso o valor seja uma _string_, as possíveis funções de distâncias estão presentes [aqui](https://scikit-learn.org/stable/modules/generated/sklearn.neighbors.DistanceMetric.html#sklearn.neighbors.DistanceMetric). Entretanto, você tamém pode criar uma função que calcula a distância entre métricas.\n",
    "\n",
    "Vamos definir duas distâncias diferentes, a distância Euclidiana e a distância Manhattan:\n",
    "\n",
    "- Manhattan: $D_M(x, y) = |x_1-x_2| + |y_1-y_2|$\n",
    "- Euclidiana: $D(x, y) = \\sqrt{(x_1-x_2)^2 + (y_1-y_2)^2}$"
   ]
  },
  {
   "cell_type": "code",
   "execution_count": null,
   "metadata": {},
   "outputs": [],
   "source": [
    "# vamos implementar a distância manhattan, com pesos diferentes para cada uma das features\n",
    "def knn_custom_distance(x, y, weights=np.array([2, 1])):\n",
    "    return (abs(x - y)*weights).sum()\n",
    "\n",
    "model = KNeighborsClassifier(n_neighbors=11, metric=knn_custom_distance)\n",
    "model.fit(X_train, y_train)\n",
    "\n",
    "# e ver a sua performance no dataset de test\n",
    "print(classification_report(y_test, model.predict(X_test)))\n",
    "\n",
    "show_decision_region(\n",
    "    np.array(\n",
    "        [\n",
    "            X_test[feature_0].values, \n",
    "            X_test[feature_1].values,\n",
    "        ]\n",
    "    ).T, \n",
    "    y_test.values, \n",
    "    model, \n",
    "    feature_0, \n",
    "    feature_1\n",
    ")"
   ]
  },
  {
   "cell_type": "markdown",
   "metadata": {},
   "source": [
    "O comportamento padrão do algoritmo atribui pesos iguais para as distâncias entre a instância de teste e as de treino. Entretanto, podemos atribuir pesos diferentes em função das distâncias. Isso pode ser feito mudando o hiperparâmetro _weights_ de três formas diferentes: \n",
    "\n",
    "- _\"uniform\"_ atribui o rótulo da classe majoritária dos k vizinhos da instancia de teste.\n",
    "- _\"distance\"_ utiliza como peso o inverso da distância ($1/d$), dando peso menor instâncias mais longe da instancia de teste.\n",
    "- E uma _função customizada_, onde você pode definir a função para atribuir pesos diferentes para um vetor de distâncias."
   ]
  },
  {
   "cell_type": "code",
   "execution_count": null,
   "metadata": {},
   "outputs": [],
   "source": [
    "# vamos criar um classificador kNN com k=11\n",
    "model = KNeighborsClassifier(n_neighbors=11, weights=\"distance\")\n",
    "model.fit(X_train, y_train)\n",
    "\n",
    "# e ver a sua performance no dataset de teste\n",
    "print(classification_report(y_test, model.predict(X_test)))\n",
    "\n",
    "show_decision_region(\n",
    "    np.array(\n",
    "        [\n",
    "            X_test[feature_0].values, \n",
    "            X_test[feature_1].values,\n",
    "        ]\n",
    "    ).T, \n",
    "    y_test.values, \n",
    "    model, \n",
    "    feature_0, \n",
    "    feature_1\n",
    ")"
   ]
  }
 ],
 "metadata": {
  "kernelspec": {
   "display_name": "Python 3",
   "language": "python",
   "name": "python3"
  },
  "language_info": {
   "codemirror_mode": {
    "name": "ipython",
    "version": 3
   },
   "file_extension": ".py",
   "mimetype": "text/x-python",
   "name": "python",
   "nbconvert_exporter": "python",
   "pygments_lexer": "ipython3",
   "version": "3.6.13"
  }
 },
 "nbformat": 4,
 "nbformat_minor": 4
}
