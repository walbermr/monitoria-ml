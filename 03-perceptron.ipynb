{
 "cells": [
  {
   "cell_type": "markdown",
   "metadata": {},
   "source": [
    "# Perceptron\n",
    "\n",
    "***"
   ]
  },
  {
   "cell_type": "markdown",
   "metadata": {},
   "source": [
    "# Agora é a sua vez"
   ]
  },
  {
   "cell_type": "markdown",
   "metadata": {},
   "source": [
    "Após ter visto o ipython notebook de regressão linear, como você faria um com o perceptron?"
   ]
  },
  {
   "cell_type": "markdown",
   "metadata": {},
   "source": [
    "## Importando bibliotecas"
   ]
  },
  {
   "cell_type": "code",
   "execution_count": null,
   "metadata": {},
   "outputs": [],
   "source": [
    "# Bibliotecas de manipualção e visualização de dados\n",
    "import numpy as np\n",
    "import matplotlib.pyplot as plt\n",
    "from mlxtend.plotting import plot_decision_regions\n",
    "\n",
    "# Classes dos modelo\n",
    "from sklearn.linear_model import Perceptron\n",
    "\n",
    "# Funções de avaliação dos modelos\n",
    "from sklearn.metrics import classification_report\n",
    "from sklearn.model_selection import train_test_split\n",
    "\n",
    "# Função para carregar nosso dataset\n",
    "from sklearn.datasets import load_wine"
   ]
  },
  {
   "cell_type": "markdown",
   "metadata": {},
   "source": [
    "## Análise do dataset\n",
    "\n",
    "Que análises você faria?"
   ]
  },
  {
   "cell_type": "code",
   "execution_count": null,
   "metadata": {},
   "outputs": [],
   "source": [
    "X, y = load_wine(return_X_y=True, as_frame=True)"
   ]
  },
  {
   "cell_type": "code",
   "execution_count": null,
   "metadata": {},
   "outputs": [],
   "source": [
    "## vamos apenas observador duas classes desse banco de dados, 0 e 1\n",
    "class_a = 0\n",
    "class_b = 2\n",
    "class_0_instances = (y == class_a)\n",
    "class_1_instances = (y == class_b)\n",
    "\n",
    "filtered_y = y[class_0_instances | class_1_instances]\n",
    "filtered_X = X[class_0_instances | class_1_instances]\n",
    "\n",
    "# referencia para outras cores: https://matplotlib.org/2.0.2/examples/color/named_colors.html\n",
    "# referencia para outros simbolos: https://matplotlib.org/stable/api/markers_api.html\n",
    "colors = {0: \"steelblue\", 1: \"darkorange\", 2: \"mediumseagreen\"}\n",
    "markers = {0: \"s\", 1: \"^\", 2:\"o\"}\n",
    "\n",
    "# teste outras features\n",
    "feature_0 = ...\n",
    "feature_1 = ...\n",
    "\n",
    "# vamos observar cada uma das classes usando duas features\n",
    "plt.scatter(\n",
    "    X[feature_0][class_0_instances],\n",
    "    X[feature_1][class_0_instances], \n",
    "    c=colors[class_a], \n",
    "    marker=markers[class_a]\n",
    ")\n",
    "plt.scatter(\n",
    "    X[feature_0][class_1_instances], \n",
    "    X[feature_1][class_1_instances], \n",
    "    c=colors[class_b], \n",
    "    marker=markers[class_b]\n",
    ")"
   ]
  },
  {
   "cell_type": "code",
   "execution_count": null,
   "metadata": {},
   "outputs": [],
   "source": [
    "# para treinar e avaliar um classificador, precisamos dividir o dataset em dois conjuntos, ...\n",
    "X_train, X_test, y_train, y_test = train_test_split(...)\n",
    "\n",
    "# ... referenciar e treinar o modelo\n",
    "model = Perceptron()\n",
    "..."
   ]
  },
  {
   "cell_type": "code",
   "execution_count": null,
   "metadata": {},
   "outputs": [],
   "source": [
    "# qual o resultado para esse classificador?\n",
    "print(...)"
   ]
  },
  {
   "cell_type": "code",
   "execution_count": null,
   "metadata": {},
   "outputs": [],
   "source": [
    "# o que é possível mudar na função de plotagem? http://rasbt.github.io/mlxtend/api_subpackages/mlxtend.plotting/#plot_decision_regions\n",
    "def show_decision_region(x, y, clf, f0, f1):\n",
    "    plot_decision_regions(x, y, clf=clf)\n",
    "    plt.xlabel(f0)\n",
    "    plt.ylabel(f1)\n",
    "    plt.title(clf.__class__.__name__)\n",
    "    plt.show()\n",
    "\n",
    "show_decision_region(\n",
    "    ...\n",
    ")"
   ]
  }
 ],
 "metadata": {
  "kernelspec": {
   "display_name": "Python 3",
   "language": "python",
   "name": "python3"
  },
  "language_info": {
   "codemirror_mode": {
    "name": "ipython",
    "version": 3
   },
   "file_extension": ".py",
   "mimetype": "text/x-python",
   "name": "python",
   "nbconvert_exporter": "python",
   "pygments_lexer": "ipython3",
   "version": "3.6.13"
  }
 },
 "nbformat": 4,
 "nbformat_minor": 4
}
