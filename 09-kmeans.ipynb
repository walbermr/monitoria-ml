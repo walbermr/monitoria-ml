{
 "cells": [
  {
   "cell_type": "markdown",
   "metadata": {},
   "source": [
    "# KMeans\n",
    "\n",
    "***\n",
    "\n",
    "O KMeans é um algoritmo conceitualmente diferente dos que já trabalhamos aqui. Diferentemente dos classificadores, que pertencem à classe de modelos supervisionados, o KMeans pertence à classe de modelos não supervisionados. Modelos não supervisionados não requerem a utilização de classes, ou um alvo específico para aprender padrões. A partir das próprias features no dataset, os padrões são aprendidos.\n",
    "\n",
    "Como assim?"
   ]
  },
  {
   "cell_type": "markdown",
   "metadata": {},
   "source": [
    "## Índice\n",
    "\n",
    "1. [Importando bibliotecas](#importando-bibliotecas)\n",
    "2. [Como o KMeans aprende](#como-o-kmeans-aprende)\n",
    "3. [Limitações](#limitações)"
   ]
  },
  {
   "cell_type": "markdown",
   "metadata": {},
   "source": [
    "## Importando bibliotecas"
   ]
  },
  {
   "cell_type": "code",
   "execution_count": null,
   "metadata": {},
   "outputs": [],
   "source": [
    "# Bibliotecas de manipualção e visualização de dados\n",
    "import numpy as np\n",
    "import matplotlib.pyplot as plt\n",
    "from mlxtend.plotting import plot_decision_regions\n",
    "\n",
    "# Classes do modelo\n",
    "from sklearn.cluster import KMeans\n",
    "\n",
    "# Funções de avaliação dos modelos\n",
    "from sklearn.model_selection import train_test_split\n",
    "\n",
    "from sklearn.pipeline import Pipeline\n",
    "\n",
    "# Função para carregar nosso dataset\n",
    "from sklearn.datasets import load_wine\n",
    "\n",
    "def show_decision_region(x, y, clf, f0, f1, centroids=None):\n",
    "    plot_decision_regions(x, y, clf=clf)\n",
    "    plt.xlabel(f0)\n",
    "    plt.ylabel(f1)\n",
    "    if clf.__class__.__name__ == \"KNeighborsClassifier\":\n",
    "        plt.title(clf.__class__.__name__ + \" k = \" + str(clf.n_neighbors))\n",
    "    else:\n",
    "        plt.title(clf.__class__.__name__)\n",
    "\n",
    "    if centroids is not None:\n",
    "        plt.scatter(\n",
    "            centroids[:, 0],\n",
    "            centroids[:, 1], \n",
    "            c=\"tab:red\", \n",
    "            marker=\"*\",\n",
    "            s=300,\n",
    "            alpha=1\n",
    "        )\n",
    "    plt.show()\n"
   ]
  },
  {
   "cell_type": "markdown",
   "metadata": {},
   "source": [
    "## Como o KMeans aprende"
   ]
  },
  {
   "cell_type": "markdown",
   "metadata": {},
   "source": [
    "O KMeans requer que você informe a quantidade de centróides em que os dados devem ser agrupados. Cada centróides representa o ponto de referência para um cluster. Inicialmente, um centróides pode ser escolhido como uma instância aleatória do dataset, que será atualizado até a variação do ponto durante sua atualização se tornar baixa o suficiente. Após os clusters atingirem convergência, o algoritmo termina sua execução.\n",
    "\n",
    "Para atualizar um cluster, o algoritmo é dividido em dois passos:\n",
    "\n",
    "- Atribuição: Cada ponto do dataset é atribuído a um cluster, os pontos mais próximos de um centróides, farão parte daquele cluster.\n",
    "- Atualização: Após o passo de atribuição, cada cluster será atualizado pela média dos seus pontos.\n",
    "\n",
    "O algoritmo se repete até que os centróides sejam marginalmente atualizados (convergência)."
   ]
  },
  {
   "cell_type": "code",
   "execution_count": null,
   "metadata": {},
   "outputs": [],
   "source": [
    "# carregando o dataset\n",
    "X, y = load_wine(return_X_y=True, as_frame=True)\n",
    "\n",
    "# vamos escolher apenas classes do dataset\n",
    "class_a = 0\n",
    "class_b = 1\n",
    "class_0_instances = (y == class_a)\n",
    "class_1_instances = (y == class_b)\n",
    "\n",
    "filtered_y = y[class_0_instances | class_1_instances]\n",
    "filtered_X = X[class_0_instances | class_1_instances]\n",
    "\n",
    "# vamos observar as duas features\n",
    "feature_0 = \"alcohol\"\n",
    "feature_1 = \"color_intensity\"\n",
    "\n",
    "# dividindo o dataset em treino e teste\n",
    "X_train, X_test, y_train, y_test = train_test_split(filtered_X[[feature_0, feature_1]], filtered_y, test_size=0.3, random_state=199)\n",
    "\n",
    "plt.scatter(\n",
    "    X_train[feature_0],\n",
    "    X_train[feature_1], \n",
    ")\n"
   ]
  },
  {
   "cell_type": "markdown",
   "metadata": {},
   "source": [
    "Quantos clusters podemos observar nesse dataset?"
   ]
  },
  {
   "cell_type": "code",
   "execution_count": null,
   "metadata": {},
   "outputs": [],
   "source": [
    "model = KMeans(n_clusters=2, random_state=199)\n",
    "model.fit(X_train, y_train)\n",
    "labels = model.predict(X_train)\n",
    "\n",
    "colors = {0: \"steelblue\", 1: \"darkorange\", 2: \"mediumseagreen\"}\n",
    "markers = {0: \"s\", 1: \"^\", 2:\"o\"}\n",
    "\n",
    "show_decision_region(\n",
    "    np.array(\n",
    "        [\n",
    "            X_train[feature_0].values, \n",
    "            X_train[feature_1].values,\n",
    "        ]\n",
    "    ).T, \n",
    "    labels, \n",
    "    model, \n",
    "    feature_0, \n",
    "    feature_1,\n",
    "    model.cluster_centers_\n",
    ")"
   ]
  },
  {
   "cell_type": "markdown",
   "metadata": {},
   "source": [
    "Note que a custerização cria uma região linear! Apesar de usar um algoritmo similar ao kNN, a região de clusters é linear."
   ]
  },
  {
   "cell_type": "markdown",
   "metadata": {},
   "source": [
    "## Limitações\n",
    "\n",
    "No exeomplo anterior, observamos que a região criada pelo KMeans é linear. Isso é referente ao KMeans ou ao dataset? Vamos avaliar outro dataset."
   ]
  },
  {
   "cell_type": "code",
   "execution_count": null,
   "metadata": {},
   "outputs": [],
   "source": [
    "from sklearn.datasets import make_moons, make_circles, make_blobs\n",
    "\n",
    "# criação do dataset\n",
    "X, y = make_blobs(300, 2, centers=4, cluster_std=0.6, random_state=0)\n",
    "plt.scatter(X[:, 0], X[:, 1])\n"
   ]
  },
  {
   "cell_type": "markdown",
   "metadata": {},
   "source": [
    "A implementação do _sklearn_ do KMeans possui várias otimizações sobre o algoritmo original. Primeiramente, a escolha inicial dos centróides não é feita de forma puramente aleatória, utiliza o algoritmo k-means++: ao invés de escolher de forma aleatória os centróides inciais, o algoritmo realiza k iterações, onde a probabilidade de escolher um ponto respeita uma função de distribuição não-linear. A cada vez que uma instãncia é escolhida, a probabilidade de escolher uma nova instância próxima às anteriores é menor.\n",
    "\n",
    "Além disso, o algoritmo é executado várias vezes (10 por padrão), e o resultado com melhor clusterização é utilizado.\n",
    "\n",
    "Como o algoritmo se comporta caso removessemos essas otimizações?"
   ]
  },
  {
   "cell_type": "code",
   "execution_count": null,
   "metadata": {},
   "outputs": [],
   "source": [
    "# cores e simbolos para as classses\n",
    "colors = {0: \"steelblue\", 1: \"darkorange\", 2: \"mediumseagreen\"}\n",
    "markers = {0: \"s\", 1: \"^\", 2:\"o\"}\n",
    "\n",
    "model = KMeans(n_clusters=4, init=\"random\", n_init=1, random_state=0)\n",
    "model.fit(X)\n",
    "\n",
    "show_decision_region(\n",
    "    X,\n",
    "    model.predict(X),\n",
    "    model,\n",
    "    \"f0\",\n",
    "    \"f1\",\n",
    "    model.cluster_centers_\n",
    ")"
   ]
  },
  {
   "cell_type": "markdown",
   "metadata": {},
   "source": [
    "Existe um claro problema, duas massas de dados diferentes estão sendo atribuídas à apenas um cluster, enquanto que uma massa possui dois centróides.\n",
    "\n",
    "Agora vamos avaliar outro dataset."
   ]
  },
  {
   "cell_type": "code",
   "execution_count": null,
   "metadata": {},
   "outputs": [],
   "source": [
    "from sklearn.datasets import make_moons, make_circles, make_blobs\n",
    "\n",
    "# criação do dataset\n",
    "X, y = make_circles(n_samples=50, noise=0.1, random_state=199, factor=0.2)\n",
    "plt.scatter(X[:, 0], X[:, 1])\n"
   ]
  },
  {
   "cell_type": "markdown",
   "metadata": {},
   "source": [
    "Esse dataset possui uma não-linearidade, será que o KMeans consegue resolver essa região?"
   ]
  },
  {
   "cell_type": "code",
   "execution_count": null,
   "metadata": {},
   "outputs": [],
   "source": [
    "# cores e simbolos para as classses\n",
    "colors = {0: \"steelblue\", 1: \"darkorange\", 2: \"mediumseagreen\"}\n",
    "markers = {0: \"s\", 1: \"^\", 2:\"o\"}\n",
    "\n",
    "model = KMeans(n_clusters=2)\n",
    "model.fit(X)\n",
    "\n",
    "show_decision_region(\n",
    "    X,\n",
    "    model.predict(X),\n",
    "    model,\n",
    "    \"f0\",\n",
    "    \"f1\",\n",
    "    model.cluster_centers_\n",
    ")"
   ]
  },
  {
   "cell_type": "markdown",
   "metadata": {},
   "source": [
    "Aqui observamos que KMeans não consegue capturar grupamentos não lineares de forma eficiente. Observe que o para atribuir uma instância a um cluster, o KMeans utiliza distância euclidiana, portanto, criando regiões de separação lineares.\n",
    "\n",
    "Sobre mais algoritmos de clusterização, o [_user guide_](https://scikit-learn.org/stable/modules/clustering.html) do _sklearn_ é um material incial bom."
   ]
  }
 ],
 "metadata": {
  "kernelspec": {
   "display_name": "Python 3",
   "language": "python",
   "name": "python3"
  },
  "language_info": {
   "codemirror_mode": {
    "name": "ipython",
    "version": 3
   },
   "file_extension": ".py",
   "mimetype": "text/x-python",
   "name": "python",
   "nbconvert_exporter": "python",
   "pygments_lexer": "ipython3",
   "version": "3.6.13"
  }
 },
 "nbformat": 4,
 "nbformat_minor": 4
}
