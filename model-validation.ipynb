{
 "cells": [
  {
   "cell_type": "markdown",
   "metadata": {},
   "source": [
    "# Validação do Modelo\n",
    "\n",
    "***"
   ]
  },
  {
   "cell_type": "markdown",
   "metadata": {},
   "source": [
    "## Índice"
   ]
  },
  {
   "cell_type": "markdown",
   "metadata": {},
   "source": [
    "1. [Métricas](#Importando-bibliotecas)\n",
    "2. [Validação cruzada](#Validação-cruzada)"
   ]
  },
  {
   "cell_type": "markdown",
   "metadata": {},
   "source": [
    "## Métricas\n",
    "\n",
    "Existem várias formas de avaliar um modelo de aprendizagem, dependendo da tarefa que o modelo irá realizar.\n",
    "\n",
    "Classificação:\n",
    "- [ROC](https://scikit-learn.org/stable/auto_examples/model_selection/plot_roc.html): Mede o trade-off entre a taxa de falsos positivos e a taxa de verdadeiros positivos. Quanto maior a área abaixo da curva, melhor o classificador.\n",
    "- [Acurácia](https://scikit-learn.org/stable/modules/model_evaluation.html#accuracy-score): Calcula a razão das predições corretas.\n",
    "- [Precisão](https://scikit-learn.org/stable/modules/model_evaluation.html#precision-recall-f-measure-metrics): Mede a capacidade do classificador de não classificar uma instância positiva como negativa.\n",
    "- [Revocação](https://scikit-learn.org/stable/modules/model_evaluation.html#precision-recall-f-measure-metrics) (recall): Mede a capacidade do classificador de encontrar todas as instâncias positivas.\n",
    "- [Score F1](https://scikit-learn.org/stable/modules/model_evaluation.html#precision-recall-f-measure-metrics): É a média harmônica entre precisão e revocação. Caso você não tenha um objetivo concreto que dê prioridade a precisão ou revocação, F1 é uma boa forma de avaliação.\n",
    "\n",
    "Regressão:\n",
    "- [MSE](https://scikit-learn.org/stable/modules/model_evaluation.html#mean-squared-error): Mede o erro quadrático médio entre as previsões do classificador e o dataset.\n",
    "\n"
   ]
  },
  {
   "cell_type": "code",
   "execution_count": 187,
   "metadata": {},
   "outputs": [],
   "source": [
    "import numpy as np\n",
    "\n",
    "from sklearn.datasets import load_wine\n",
    "from sklearn.model_selection import train_test_split\n",
    "\n",
    "from sklearn.tree import DecisionTreeClassifier\n"
   ]
  },
  {
   "cell_type": "code",
   "execution_count": 188,
   "metadata": {},
   "outputs": [
    {
     "name": "stdout",
     "output_type": "stream",
     "text": [
      "[[12  2]\n",
      " [ 0 25]]\n"
     ]
    },
    {
     "data": {
      "text/plain": [
       "<sklearn.metrics._plot.confusion_matrix.ConfusionMatrixDisplay at 0x22537f5b9e8>"
      ]
     },
     "execution_count": 188,
     "metadata": {},
     "output_type": "execute_result"
    },
    {
     "data": {
      "image/png": "[encoded data removed]",
      "text/plain": [
       "<Figure size 432x288 with 2 Axes>"
      ]
     },
     "metadata": {
      "needs_background": "light"
     },
     "output_type": "display_data"
    }
   ],
   "source": [
    "from sklearn.metrics import confusion_matrix, plot_confusion_matrix\n",
    "\n",
    "X, y = load_wine(return_X_y=True, as_frame=True)\n",
    "\n",
    "class_a = 0\n",
    "class_b = 1\n",
    "\n",
    "class_0_instances = (y == class_a)\n",
    "class_1_instances = (y == class_b)\n",
    "filtered_y = y[class_0_instances | class_1_instances]\n",
    "filtered_X = X[class_0_instances | class_1_instances]\n",
    "\n",
    "# dividir classificador em treino e teste\n",
    "X_train, X_test, y_train, y_test = train_test_split(filtered_X, filtered_y, test_size=0.3, random_state=199)\n",
    "\n",
    "model = DecisionTreeClassifier(random_state=199)\n",
    "model.fit(X_train, y_train)\n",
    "\n",
    "# a função confusion matrix lhe retorna uma matriz com a contagem de como cada uma das classes está sendo classificada corretamente ou erroneamente\n",
    "predicted_y = model.predict(X_test)\n",
    "label = [0, 1]\n",
    "print(confusion_matrix(y_test, predicted_y, labels=[0, 1])) #labels define como será a ordem das classes na matriz\n",
    "plot_confusion_matrix(model, X_test, y_test, labels=[0, 1])"
   ]
  },
  {
   "cell_type": "code",
   "execution_count": 185,
   "metadata": {},
   "outputs": [
    {
     "name": "stdout",
     "output_type": "stream",
     "text": [
      "              precision    recall  f1-score   support\n",
      "\n",
      "           0       0.88      1.00      0.93        14\n",
      "           1       1.00      0.92      0.96        25\n",
      "\n",
      "    accuracy                           0.95        39\n",
      "   macro avg       0.94      0.96      0.95        39\n",
      "weighted avg       0.96      0.95      0.95        39\n",
      "\n"
     ]
    }
   ],
   "source": [
    "from sklearn.metrics import classification_report\n",
    "\n",
    "print(classification_report(y_test, predicted_y))"
   ]
  },
  {
   "cell_type": "code",
   "execution_count": 186,
   "metadata": {},
   "outputs": [
    {
     "data": {
      "text/plain": [
       "<sklearn.metrics._plot.roc_curve.RocCurveDisplay at 0x22537991518>"
      ]
     },
     "execution_count": 186,
     "metadata": {},
     "output_type": "execute_result"
    },
    {
     "data": {
      "image/png": "[encoded data removed]",
      "text/plain": [
       "<Figure size 432x288 with 1 Axes>"
      ]
     },
     "metadata": {
      "needs_background": "light"
     },
     "output_type": "display_data"
    }
   ],
   "source": [
    "from sklearn.metrics import plot_roc_curve\n",
    "\n",
    "plot_roc_curve(model, X_test, y_test)"
   ]
  },
  {
   "cell_type": "markdown",
   "metadata": {},
   "source": [
    "## Validação cruzada\n",
    "\n",
    "**Utilizar qualquer fração do dataset de treino durante a avaliação de um modelo é um erro metodológico**\n",
    "\n",
    "O objetivo desse tópico é como garantir que a fração do dataset usada no teste do modelo jamais deve ter sido vista pelo modelo, não deve ter sido usada para realizar qualquer processo de otimização no modelo, ou qualquer característica ou distribuição dos dados ter sido usada durante a concepção do modelo.\n",
    "\n",
    "Dito isso, vamos entender como pensar numa metodologia para avaliação dos nossos modelos.\n"
   ]
  },
  {
   "cell_type": "markdown",
   "metadata": {},
   "source": [
    "### Hold-out\n",
    "\n",
    "Uma pequena fração do dataset é separada para teste e outra para treino. A fração de treino pode ser dividida subsequentemente em quaisquer outros subconjuntos, o importante é garantir que o dataset de teste não é utilizado durante treino, otimização ou concepção do modelo."
   ]
  },
  {
   "cell_type": "code",
   "execution_count": 140,
   "metadata": {},
   "outputs": [
    {
     "name": "stdout",
     "output_type": "stream",
     "text": [
      "0.9629629629629629\n"
     ]
    }
   ],
   "source": [
    "# dividir classificador em treino e teste\n",
    "X_train, X_test, y_train, y_test = train_test_split(X, y, test_size=0.3, random_state=199)\n",
    "\n",
    "model = DecisionTreeClassifier(random_state=199)\n",
    "model.fit(X_train, y_train)\n",
    "\n",
    "accuracy = model.score(X_test, y_test)\n",
    "print(accuracy)"
   ]
  },
  {
   "cell_type": "markdown",
   "metadata": {},
   "source": [
    "Um simples hold-out depende bastante da seleção inicial."
   ]
  },
  {
   "cell_type": "code",
   "execution_count": 60,
   "metadata": {},
   "outputs": [
    {
     "name": "stdout",
     "output_type": "stream",
     "text": [
      "0.9629629629629629\n",
      "0.9074074074074074\n",
      "0.9074074074074074\n",
      "0.8888888888888888\n"
     ]
    }
   ],
   "source": [
    "def test_model(X_train, X_test, y_train, y_test, model_class=DecisionTreeClassifier):\n",
    "    model = model_class(random_state=199)\n",
    "    model.fit(X_train, y_train)\n",
    "\n",
    "    accuracy = model.score(X_test, y_test)\n",
    "    return accuracy\n",
    "    \n",
    "X_train, X_test, y_train, y_test = train_test_split(X, y, test_size=0.3, random_state=199)\n",
    "print(test_model(X_train, X_test, y_train, y_test))\n",
    "\n",
    "X_train, X_test, y_train, y_test = train_test_split(X, y, test_size=0.3, random_state=200)\n",
    "print(test_model(X_train, X_test, y_train, y_test))\n",
    "\n",
    "X_train, X_test, y_train, y_test = train_test_split(X, y, test_size=0.3, random_state=201)\n",
    "print(test_model(X_train, X_test, y_train, y_test))\n",
    "\n",
    "X_train, X_test, y_train, y_test = train_test_split(X, y, test_size=0.3, random_state=202)\n",
    "print(test_model(X_train, X_test, y_train, y_test))\n"
   ]
  },
  {
   "cell_type": "markdown",
   "metadata": {},
   "source": [
    "Podemos adicionar repetição e realizar vários hold-outs para auferirmos várias vezes a performance de um algoritmo."
   ]
  },
  {
   "cell_type": "code",
   "execution_count": 83,
   "metadata": {},
   "outputs": [
    {
     "name": "stdout",
     "output_type": "stream",
     "text": [
      "Acurácia média (desvio): 0.9117 +- (0.0309)\n"
     ]
    }
   ],
   "source": [
    "accuracies_list = []\n",
    "for i in range(0, 30):\n",
    "    X_train, X_test, y_train, y_test = train_test_split(X, y, test_size=0.3, random_state=199+i) #variando o random state para criar amostras diferentes\n",
    "    accuracies_list.append(test_model(X_train, X_test, y_train, y_test))\n",
    "\n",
    "accuracies = np.array(accuracies_list)\n",
    "print(\"Acurácia média (desvio): %.4f +- (%.4f)\" %(accuracies.mean(), accuracies.std()))"
   ]
  },
  {
   "cell_type": "markdown",
   "metadata": {},
   "source": [
    "Outro parâmetro importante na função _train_test_split_ é o _stratify_. Ele controla se a proporção das classes no dataset de treino e teste deve ser mantida e tenta selecionar as instâncias que estão faltando para se aproximar da distribuição original."
   ]
  },
  {
   "cell_type": "code",
   "execution_count": 127,
   "metadata": {},
   "outputs": [
    {
     "name": "stdout",
     "output_type": "stream",
     "text": [
      "Proporções por classe no dataset em geral:\n",
      "Classe 0: 33.15%\n",
      "Classe 1: 39.89%\n",
      "Classe 2: 26.97%\n",
      "\n",
      "\n",
      "Proporções por classe no dataset de treino sem estratificação:\n",
      "Classe 0: 33.06%\n",
      "Classe 1: 37.90%\n",
      "Classe 2: 29.03%\n",
      "\n",
      "\n",
      "Proporções por classe no dataset de treino com estratificação:\n",
      "Classe 0: 33.06%\n",
      "Classe 1: 40.32%\n",
      "Classe 2: 26.61%\n"
     ]
    }
   ],
   "source": [
    "def print_distribution(arr, print_nl=True):\n",
    "    arr = np.unique(arr, return_counts=True)[1] / arr.count()\n",
    "    for i in range(arr.shape[0]):\n",
    "        print(\"Classe %d: %.2f%%\" %(i, arr[i]*100))\n",
    "\n",
    "    if print_nl:\n",
    "        print(\"\\n\")\n",
    "\n",
    "_, _, y_train, _ = train_test_split(X, y, test_size=0.3, random_state=199)\n",
    "_, _, y_train_strat, _ = train_test_split(X, y, test_size=0.3, random_state=199, stratify=y)\n",
    "\n",
    "print(\"Proporções por classe no dataset em geral:\")\n",
    "print_distribution(y)\n",
    "\n",
    "print(\"Proporções por classe no dataset de treino sem estratificação:\")\n",
    "print_distribution(y_train)\n",
    "\n",
    "print(\"Proporções por classe no dataset de treino com estratificação:\")\n",
    "print_distribution(y_train_strat, print_nl=False)"
   ]
  },
  {
   "cell_type": "markdown",
   "metadata": {},
   "source": [
    "### k-Fold\n",
    "\n",
    "Realizando o experimento com _hold-out_, observamos que ele depende da escolha das instâncias. Entretanto, parte das instâncias pode nunca ser escolhida para teste. O _k-Fold_ aparece para resolver esse problema.\n",
    "\n",
    "Cada _fold_ é uma partição do dataset que poderá ser usada durante o teste ou treino. $k-1$ partições serão escolhidas para treino e $1$ partição será escolhida para teste, e todas as partições deverão ser escolhidas para teste. Portanto, _k-Fold_ requer que sejam executados $k$ experimentos.\n",
    "\n",
    "| ![kfold](./imagens/k-fold.jpg) | \n",
    "|:--:| \n",
    "| Diagramatização do k-Fold, extraído de [1](https://www.mygreatlearning.com/blog/cross-validation/#sh3) |"
   ]
  },
  {
   "cell_type": "code",
   "execution_count": 109,
   "metadata": {},
   "outputs": [
    {
     "name": "stdout",
     "output_type": "stream",
     "text": [
      "Acurácia média (desvio): 0.8370 +- (0.0703)\n"
     ]
    }
   ],
   "source": [
    "from sklearn.model_selection import KFold\n",
    "\n",
    "def evaluate_model_with_kfold(kf):\n",
    "    accuracies_list = []\n",
    "    for train, test in kf.split(X, y):\n",
    "        model = DecisionTreeClassifier(random_state=199)\n",
    "        model.fit(X.iloc[train], y.iloc[train])\n",
    "        accuracies_list.append(model.score(X.iloc[test], y.iloc[test]))\n",
    "\n",
    "    accuracies = np.array(accuracies_list)\n",
    "    print(\"Acurácia média (desvio): %.4f +- (%.4f)\" %(accuracies.mean(), accuracies.std()))\n",
    "\n",
    "evaluate_model_with_kfold(KFold(n_splits=5))\n"
   ]
  },
  {
   "cell_type": "markdown",
   "metadata": {},
   "source": [
    "Observe que o _k-Fold_ cria as partições sequencialmente, o que pode interfere na distribuição das classes devido a alguma ordenação no dataset, como no caso abaixo. Use o parâmetro _shuffle_ para controlar a permutação do dataset antes de realizar o particionamento. E como no _hold-out_, a subdivisão aleatórias com _k-Fold_ e _shuffle_ também interfere na distribuição das classes."
   ]
  },
  {
   "cell_type": "code",
   "execution_count": 190,
   "metadata": {},
   "outputs": [
    {
     "name": "stdout",
     "output_type": "stream",
     "text": [
      "Proporções por classe no dataset em geral:\n",
      "Classe 0: 33.15%\n",
      "Classe 1: 39.89%\n",
      "Classe 2: 26.97%\n",
      "\n",
      "\n",
      "Fold 0\n",
      "Classe 0: 59.32%\n",
      "Classe 1: 40.68%\n",
      "\n",
      "\n",
      "Fold 1\n",
      "Classe 0: 49.58%\n",
      "Classe 1: 10.08%\n",
      "Classe 2: 40.34%\n",
      "\n",
      "\n",
      "Fold 2\n",
      "Classe 0: 49.58%\n",
      "Classe 1: 50.42%\n"
     ]
    }
   ],
   "source": [
    "print(\"Proporções por classe no dataset em geral:\")\n",
    "print_distribution(y)\n",
    "\n",
    "kf = KFold(n_splits=3)\n",
    "start_print = False\n",
    "fold = 0\n",
    "for train, test in kf.split(X, y):\n",
    "    print(\"Fold %d\" %(fold))\n",
    "    print_distribution(y[train], print_nl=(fold != 2))\n",
    "    fold += 1"
   ]
  },
  {
   "cell_type": "markdown",
   "metadata": {},
   "source": [
    "Para resolver isso, _StratifiedKFold_ realiza a estratificação das classes. Outras formas de seleção estão disponíveis [aqui](https://scikit-learn.org/stable/modules/classes.html#module-sklearn.model_selection)."
   ]
  },
  {
   "cell_type": "code",
   "execution_count": 191,
   "metadata": {},
   "outputs": [
    {
     "name": "stdout",
     "output_type": "stream",
     "text": [
      "Proporções por classe no dataset em geral:\n",
      "Classe 0: 33.15%\n",
      "Classe 1: 39.89%\n",
      "Classe 2: 26.97%\n",
      "\n",
      "\n",
      "Fold 0\n",
      "Classe 0: 33.05%\n",
      "Classe 1: 39.83%\n",
      "Classe 2: 27.12%\n",
      "\n",
      "\n",
      "Fold 1\n",
      "Classe 0: 32.77%\n",
      "Classe 1: 40.34%\n",
      "Classe 2: 26.89%\n",
      "\n",
      "\n",
      "Fold 2\n",
      "Classe 0: 33.61%\n",
      "Classe 1: 39.50%\n",
      "Classe 2: 26.89%\n"
     ]
    }
   ],
   "source": [
    "from sklearn.model_selection import StratifiedKFold\n",
    "\n",
    "print(\"Proporções por classe no dataset em geral:\")\n",
    "print_distribution(y)\n",
    "\n",
    "kf = StratifiedKFold(n_splits=3, shuffle=True, random_state=199)\n",
    "fold = 0\n",
    "for train, test in kf.split(X, y):\n",
    "    print(\"Fold %d\" %(fold))\n",
    "    print_distribution(y[train], print_nl=(fold != 2))\n",
    "    fold += 1"
   ]
  },
  {
   "cell_type": "code",
   "execution_count": 110,
   "metadata": {},
   "outputs": [
    {
     "name": "stdout",
     "output_type": "stream",
     "text": [
      "Acurácia média (desvio): 0.8879 +- (0.0347)\n"
     ]
    }
   ],
   "source": [
    "from sklearn.model_selection import StratifiedKFold\n",
    "\n",
    "evaluate_model_with_kfold(StratifiedKFold(n_splits=5, shuffle=True, random_state=199))"
   ]
  }
 ],
 "metadata": {
  "kernelspec": {
   "display_name": "Python 3",
   "language": "python",
   "name": "python3"
  },
  "language_info": {
   "codemirror_mode": {
    "name": "ipython",
    "version": 3
   },
   "file_extension": ".py",
   "mimetype": "text/x-python",
   "name": "python",
   "nbconvert_exporter": "python",
   "pygments_lexer": "ipython3",
   "version": "3.6.13"
  }
 },
 "nbformat": 4,
 "nbformat_minor": 4
}
